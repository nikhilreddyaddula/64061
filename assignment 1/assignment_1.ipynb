{
  "nbformat": 4,
  "nbformat_minor": 0,
  "metadata": {
    "colab": {
      "provenance": []
    },
    "kernelspec": {
      "name": "python3",
      "display_name": "Python 3"
    },
    "language_info": {
      "name": "python"
    }
  },
  "cells": [
    {
      "cell_type": "code",
      "source": [
        "#Import necessary modules\n",
        "from google.colab import drive\n",
        "drive.mount('/content/drive')\n",
        "import pandas as pd\n",
        "from sklearn.metrics import accuracy_score\n",
        "from sklearn.datasets import load_wine\n",
        "from sklearn.model_selection import train_test_split\n",
        "from sklearn.neighbors import KNeighborsClassifier\n",
        "\n",
        "#Load wine dataset\n",
        "wine = load_wine()\n",
        "data, labels = wine.data, wine.target\n",
        "\n",
        "#Training testing split\n",
        "res = train_test_split(data, labels,\n",
        "train_size=0.8,\n",
        "test_size=0.2,\n",
        "random_state=12)\n",
        "train_data, test_data, train_labels, test_labels = res\n",
        "\n",
        "#Create and fit a nearest-neighbor classifier (out of the box, no parameters)\n",
        "knn = KNeighborsClassifier()\n",
        "knn.fit(train_data, train_labels)\n",
        "\n",
        "#Print some interested metrics\n",
        "print(\"Predictions from the classifier:\")\n",
        "learn_data_predicted = knn.predict(train_data)\n",
        "print(learn_data_predicted)\n",
        "print(\"Target values:\")\n",
        "print(train_labels)\n",
        "print(\"Accuracy score:\")\n",
        "print(accuracy_score(learn_data_predicted, train_labels))\n",
        "\n",
        "#Re-do KNN using some specific parameters\n",
        "knn2 = KNeighborsClassifier(algorithm='auto',\n",
        "leaf_size=30,\n",
        "metric='minkowski',\n",
        "p=2, # p=2 is equivalent to euclidian distance\n",
        "metric_params=None,\n",
        "n_jobs=1,\n",
        "n_neighbors=5,\n",
        "weights='uniform')\n",
        "knn2.fit(train_data, train_labels)\n",
        "\n",
        "#Predict test data and calculate accuracy score\n",
        "test_data_predicted = knn2.predict(test_data)\n",
        "accuracy = accuracy_score(test_data_predicted, test_labels)\n",
        "\n",
        "print(f\"Accuracy score on test data: {accuracy}\")"
      ],
      "metadata": {
        "id": "JYvlalGmB6Vz",
        "outputId": "0ed8daa5-ed91-427a-d4c0-6409ae2d3e73",
        "colab": {
          "base_uri": "https://localhost:8080/"
        }
      },
      "execution_count": 24,
      "outputs": [
        {
          "output_type": "stream",
          "name": "stdout",
          "text": [
            "Drive already mounted at /content/drive; to attempt to forcibly remount, call drive.mount(\"/content/drive\", force_remount=True).\n",
            "Predictions from the classifier:\n",
            "[2 0 1 1 0 0 1 0 0 2 1 0 1 2 1 2 1 1 0 0 2 0 1 1 1 2 2 0 2 1 2 1 1 0 2 1 0\n",
            " 2 0 1 0 0 0 2 0 1 1 2 1 0 2 0 2 0 0 2 1 0 1 1 2 2 2 1 2 0 0 1 1 1 2 0 0 2\n",
            " 2 0 1 0 1 1 2 1 1 0 1 0 1 1 0 1 1 0 0 1 1 2 1 0 0 1 0 1 1 0 0 1 0 1 0 0 2\n",
            " 1 0 2 0 1 1 2 1 2 1 2 0 2 1 0 1 1 1 0 1 2 0 2 0 0 1 0 2 2 2 1]\n",
            "Target values:\n",
            "[1 0 1 1 0 0 1 0 0 2 1 0 1 2 1 2 2 2 0 0 2 0 1 1 1 1 0 0 0 1 2 1 1 2 2 1 1\n",
            " 2 0 1 0 0 0 2 0 1 1 2 1 0 2 0 1 0 0 2 2 0 1 2 2 2 2 1 2 0 0 1 1 1 2 0 0 2\n",
            " 2 2 1 0 1 1 2 1 2 0 1 0 0 2 0 1 1 0 0 1 1 1 1 0 2 2 1 1 1 0 1 1 0 1 0 0 0\n",
            " 1 0 1 1 1 1 2 2 1 1 1 0 1 1 0 1 1 1 1 1 2 2 2 0 0 1 0 2 2 2 1]\n",
            "Accuracy score:\n",
            "0.795774647887324\n",
            "Accuracy score on test data: 0.7222222222222222\n"
          ]
        }
      ]
    }
  ]
}